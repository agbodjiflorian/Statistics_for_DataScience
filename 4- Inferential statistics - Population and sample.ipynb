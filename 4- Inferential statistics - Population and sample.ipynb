{
 "cells": [
  {
   "cell_type": "markdown",
   "id": "e34546e7",
   "metadata": {},
   "source": [
    "# Sampling with and without replacement, Empirical distribution function, Probability density function, Normal distribution, Probability, Simulation, Boostraping"
   ]
  },
  {
   "cell_type": "code",
   "execution_count": 1,
   "id": "9afc8e5c",
   "metadata": {},
   "outputs": [],
   "source": [
    "import pandas as pd\n",
    "import numpy as np\n",
    "import matplotlib.pyplot as plt\n",
    "import seaborn as sns\n",
    "%matplotlib inline\n",
    "plt.style.use('ggplot')\n",
    "\n",
    "from warnings import filterwarnings\n",
    "filterwarnings('ignore')\n",
    "\n",
    "from scipy import stats"
   ]
  },
  {
   "cell_type": "code",
   "execution_count": 2,
   "id": "de5e5046",
   "metadata": {},
   "outputs": [
    {
     "data": {
      "text/html": [
       "<div>\n",
       "<style scoped>\n",
       "    .dataframe tbody tr th:only-of-type {\n",
       "        vertical-align: middle;\n",
       "    }\n",
       "\n",
       "    .dataframe tbody tr th {\n",
       "        vertical-align: top;\n",
       "    }\n",
       "\n",
       "    .dataframe thead th {\n",
       "        text-align: right;\n",
       "    }\n",
       "</style>\n",
       "<table border=\"1\" class=\"dataframe\">\n",
       "  <thead>\n",
       "    <tr style=\"text-align: right;\">\n",
       "      <th></th>\n",
       "      <th>poids</th>\n",
       "    </tr>\n",
       "  </thead>\n",
       "  <tbody>\n",
       "    <tr>\n",
       "      <th>0</th>\n",
       "      <td>47</td>\n",
       "    </tr>\n",
       "    <tr>\n",
       "      <th>1</th>\n",
       "      <td>48</td>\n",
       "    </tr>\n",
       "    <tr>\n",
       "      <th>2</th>\n",
       "      <td>85</td>\n",
       "    </tr>\n",
       "    <tr>\n",
       "      <th>3</th>\n",
       "      <td>20</td>\n",
       "    </tr>\n",
       "    <tr>\n",
       "      <th>4</th>\n",
       "      <td>19</td>\n",
       "    </tr>\n",
       "    <tr>\n",
       "      <th>5</th>\n",
       "      <td>13</td>\n",
       "    </tr>\n",
       "    <tr>\n",
       "      <th>6</th>\n",
       "      <td>72</td>\n",
       "    </tr>\n",
       "    <tr>\n",
       "      <th>7</th>\n",
       "      <td>16</td>\n",
       "    </tr>\n",
       "    <tr>\n",
       "      <th>8</th>\n",
       "      <td>50</td>\n",
       "    </tr>\n",
       "    <tr>\n",
       "      <th>9</th>\n",
       "      <td>60</td>\n",
       "    </tr>\n",
       "  </tbody>\n",
       "</table>\n",
       "</div>"
      ],
      "text/plain": [
       "   poids\n",
       "0     47\n",
       "1     48\n",
       "2     85\n",
       "3     20\n",
       "4     19\n",
       "5     13\n",
       "6     72\n",
       "7     16\n",
       "8     50\n",
       "9     60"
      ]
     },
     "execution_count": 2,
     "metadata": {},
     "output_type": "execute_result"
    }
   ],
   "source": [
    "data = pd.DataFrame()\n",
    "data['poids'] = [47, 48, 85, 20, 19, 13, 72, 16, 50, 60]\n",
    "data"
   ]
  },
  {
   "cell_type": "markdown",
   "id": "c53ffa87",
   "metadata": {},
   "source": [
    "# Sample with and without replacement"
   ]
  },
  {
   "cell_type": "code",
   "execution_count": 3,
   "id": "2c193407",
   "metadata": {},
   "outputs": [
    {
     "data": {
      "text/plain": [
       "5    13\n",
       "7    16\n",
       "0    47\n",
       "4    19\n",
       "1    48\n",
       "Name: poids, dtype: int64"
      ]
     },
     "execution_count": 3,
     "metadata": {},
     "output_type": "execute_result"
    }
   ],
   "source": [
    "# Sample with replacement, size 5\n",
    "sample_with_replacement = data['poids'].sample(n = 5, replace = True)\n",
    "sample_with_replacement "
   ]
  },
  {
   "cell_type": "code",
   "execution_count": 4,
   "id": "563bea59",
   "metadata": {},
   "outputs": [
    {
     "data": {
      "text/plain": [
       "6    72\n",
       "7    16\n",
       "2    85\n",
       "9    60\n",
       "4    19\n",
       "Name: poids, dtype: int64"
      ]
     },
     "execution_count": 4,
     "metadata": {},
     "output_type": "execute_result"
    }
   ],
   "source": [
    "# Sample without replacement, size 5\n",
    "sample_without_replacement = data['poids'].sample(n = 5, replace = False)\n",
    "sample_without_replacement"
   ]
  },
  {
   "cell_type": "code",
   "execution_count": 5,
   "id": "b7583427",
   "metadata": {},
   "outputs": [
    {
     "data": {
      "text/html": [
       "<div>\n",
       "<style scoped>\n",
       "    .dataframe tbody tr th:only-of-type {\n",
       "        vertical-align: middle;\n",
       "    }\n",
       "\n",
       "    .dataframe tbody tr th {\n",
       "        vertical-align: top;\n",
       "    }\n",
       "\n",
       "    .dataframe thead th {\n",
       "        text-align: right;\n",
       "    }\n",
       "</style>\n",
       "<table border=\"1\" class=\"dataframe\">\n",
       "  <thead>\n",
       "    <tr style=\"text-align: right;\">\n",
       "      <th></th>\n",
       "      <th>poids</th>\n",
       "    </tr>\n",
       "  </thead>\n",
       "  <tbody>\n",
       "    <tr>\n",
       "      <th>count</th>\n",
       "      <td>10.000000</td>\n",
       "    </tr>\n",
       "    <tr>\n",
       "      <th>mean</th>\n",
       "      <td>43.000000</td>\n",
       "    </tr>\n",
       "    <tr>\n",
       "      <th>std</th>\n",
       "      <td>25.205819</td>\n",
       "    </tr>\n",
       "    <tr>\n",
       "      <th>min</th>\n",
       "      <td>13.000000</td>\n",
       "    </tr>\n",
       "    <tr>\n",
       "      <th>25%</th>\n",
       "      <td>19.250000</td>\n",
       "    </tr>\n",
       "    <tr>\n",
       "      <th>50%</th>\n",
       "      <td>47.500000</td>\n",
       "    </tr>\n",
       "    <tr>\n",
       "      <th>75%</th>\n",
       "      <td>57.500000</td>\n",
       "    </tr>\n",
       "    <tr>\n",
       "      <th>max</th>\n",
       "      <td>85.000000</td>\n",
       "    </tr>\n",
       "  </tbody>\n",
       "</table>\n",
       "</div>"
      ],
      "text/plain": [
       "           poids\n",
       "count  10.000000\n",
       "mean   43.000000\n",
       "std    25.205819\n",
       "min    13.000000\n",
       "25%    19.250000\n",
       "50%    47.500000\n",
       "75%    57.500000\n",
       "max    85.000000"
      ]
     },
     "execution_count": 5,
     "metadata": {},
     "output_type": "execute_result"
    }
   ],
   "source": [
    "# Parameters of the population\n",
    "data.describe()"
   ]
  },
  {
   "cell_type": "code",
   "execution_count": 6,
   "id": "b1f4f4b8",
   "metadata": {},
   "outputs": [
    {
     "data": {
      "text/plain": [
       "count     5.000000\n",
       "mean     28.600000\n",
       "std      17.386777\n",
       "min      13.000000\n",
       "25%      16.000000\n",
       "50%      19.000000\n",
       "75%      47.000000\n",
       "max      48.000000\n",
       "Name: poids, dtype: float64"
      ]
     },
     "execution_count": 6,
     "metadata": {},
     "output_type": "execute_result"
    }
   ],
   "source": [
    "# Parameters of the sample with replacement\n",
    "sample_with_replacement.describe()"
   ]
  },
  {
   "cell_type": "code",
   "execution_count": 7,
   "id": "b0685e2b",
   "metadata": {},
   "outputs": [
    {
     "data": {
      "text/plain": [
       "count     5.000000\n",
       "mean     50.400000\n",
       "std      31.325708\n",
       "min      16.000000\n",
       "25%      19.000000\n",
       "50%      60.000000\n",
       "75%      72.000000\n",
       "max      85.000000\n",
       "Name: poids, dtype: float64"
      ]
     },
     "execution_count": 7,
     "metadata": {},
     "output_type": "execute_result"
    }
   ],
   "source": [
    "# Parameters of the sample without replacement\n",
    "sample_without_replacement.describe()"
   ]
  },
  {
   "cell_type": "markdown",
   "id": "e8dfa975",
   "metadata": {},
   "source": [
    "# Empirical distribution function"
   ]
  },
  {
   "cell_type": "raw",
   "id": "4a1484ea",
   "metadata": {},
   "source": [
    "The empirical distribution function of a variable\n",
    "to all x associates the probability of obtaining a value less than or equal to x\n",
    "Fx(x) = P(X <= x)\n",
    "The distribution function assigns probability 1/n to each of the n observations in a sample"
   ]
  },
  {
   "cell_type": "code",
   "execution_count": 8,
   "id": "9584afa1",
   "metadata": {},
   "outputs": [
    {
     "data": {
      "text/html": [
       "<div>\n",
       "<style scoped>\n",
       "    .dataframe tbody tr th:only-of-type {\n",
       "        vertical-align: middle;\n",
       "    }\n",
       "\n",
       "    .dataframe tbody tr th {\n",
       "        vertical-align: top;\n",
       "    }\n",
       "\n",
       "    .dataframe thead th {\n",
       "        text-align: right;\n",
       "    }\n",
       "</style>\n",
       "<table border=\"1\" class=\"dataframe\">\n",
       "  <thead>\n",
       "    <tr style=\"text-align: right;\">\n",
       "      <th></th>\n",
       "      <th>sepal_length</th>\n",
       "      <th>sepal_width</th>\n",
       "      <th>petal_length</th>\n",
       "      <th>petal_width</th>\n",
       "      <th>species</th>\n",
       "    </tr>\n",
       "  </thead>\n",
       "  <tbody>\n",
       "    <tr>\n",
       "      <th>0</th>\n",
       "      <td>5.1</td>\n",
       "      <td>3.5</td>\n",
       "      <td>1.4</td>\n",
       "      <td>0.2</td>\n",
       "      <td>setosa</td>\n",
       "    </tr>\n",
       "    <tr>\n",
       "      <th>1</th>\n",
       "      <td>4.9</td>\n",
       "      <td>3.0</td>\n",
       "      <td>1.4</td>\n",
       "      <td>0.2</td>\n",
       "      <td>setosa</td>\n",
       "    </tr>\n",
       "    <tr>\n",
       "      <th>2</th>\n",
       "      <td>4.7</td>\n",
       "      <td>3.2</td>\n",
       "      <td>1.3</td>\n",
       "      <td>0.2</td>\n",
       "      <td>setosa</td>\n",
       "    </tr>\n",
       "    <tr>\n",
       "      <th>3</th>\n",
       "      <td>4.6</td>\n",
       "      <td>3.1</td>\n",
       "      <td>1.5</td>\n",
       "      <td>0.2</td>\n",
       "      <td>setosa</td>\n",
       "    </tr>\n",
       "    <tr>\n",
       "      <th>4</th>\n",
       "      <td>5.0</td>\n",
       "      <td>3.6</td>\n",
       "      <td>1.4</td>\n",
       "      <td>0.2</td>\n",
       "      <td>setosa</td>\n",
       "    </tr>\n",
       "  </tbody>\n",
       "</table>\n",
       "</div>"
      ],
      "text/plain": [
       "   sepal_length  sepal_width  petal_length  petal_width species\n",
       "0           5.1          3.5           1.4          0.2  setosa\n",
       "1           4.9          3.0           1.4          0.2  setosa\n",
       "2           4.7          3.2           1.3          0.2  setosa\n",
       "3           4.6          3.1           1.5          0.2  setosa\n",
       "4           5.0          3.6           1.4          0.2  setosa"
      ]
     },
     "execution_count": 8,
     "metadata": {},
     "output_type": "execute_result"
    }
   ],
   "source": [
    "# Load the IRIS data from seaborn library\n",
    "iris = sns.load_dataset('iris')\n",
    "iris.head()"
   ]
  },
  {
   "cell_type": "code",
   "execution_count": 9,
   "id": "b0a0470b",
   "metadata": {},
   "outputs": [
    {
     "data": {
      "text/plain": [
       "setosa        50\n",
       "versicolor    50\n",
       "virginica     50\n",
       "Name: species, dtype: int64"
      ]
     },
     "execution_count": 9,
     "metadata": {},
     "output_type": "execute_result"
    }
   ],
   "source": [
    "# Species of IRIS\n",
    "iris['species'].value_counts()"
   ]
  },
  {
   "cell_type": "code",
   "execution_count": 10,
   "id": "68b469ba",
   "metadata": {},
   "outputs": [
    {
     "data": {
      "text/plain": [
       "50    4.7\n",
       "51    4.5\n",
       "52    4.9\n",
       "53    4.0\n",
       "54    4.6\n",
       "55    4.5\n",
       "56    4.7\n",
       "57    3.3\n",
       "58    4.6\n",
       "59    3.9\n",
       "Name: petal_length, dtype: float64"
      ]
     },
     "execution_count": 10,
     "metadata": {},
     "output_type": "execute_result"
    }
   ],
   "source": [
    "# Petal IRIS versicolor lengths (petal_length)\n",
    "iris[iris['species'] == 'versicolor']['petal_length'].head(10)"
   ]
  },
  {
   "cell_type": "code",
   "execution_count": 11,
   "id": "39404e1d",
   "metadata": {},
   "outputs": [],
   "source": [
    "# Function for calculating the empirical distribution of a variable\n",
    "\n",
    "def edf(data):\n",
    "    # size of the data\n",
    "    size = len(data)\n",
    "    \n",
    "    # sort the values in the array\n",
    "    x = np.sort(data)\n",
    "    \n",
    "    # calcul the probability 1/n\n",
    "    y = np.arange(1, size + 1) / size\n",
    "    \n",
    "    return (x, y)"
   ]
  },
  {
   "cell_type": "code",
   "execution_count": 12,
   "id": "3bc74ba2",
   "metadata": {},
   "outputs": [],
   "source": [
    "# Empirical distribution of the Length of petals of each species of iris\n",
    "\n",
    "x_vers, y_vers = edf(iris[iris['species'] == 'versicolor']['petal_length'])\n",
    "x_set, y_set = edf(iris[iris['species'] == 'setosa']['petal_length'])\n",
    "x_virg, y_virg = edf(iris[iris['species'] == 'virginica']['petal_length'])"
   ]
  },
  {
   "cell_type": "code",
   "execution_count": 13,
   "id": "e31d0b63",
   "metadata": {},
   "outputs": [
    {
     "data": {
      "image/png": "[encoded data removed]",
      "text/plain": [
       "<Figure size 640x480 with 1 Axes>"
      ]
     },
     "metadata": {},
     "output_type": "display_data"
    }
   ],
   "source": [
    "plt.plot(x_vers, y_vers, color = 'green')\n",
    "plt.plot(x_set, y_set, color = 'red')\n",
    "plt.plot(x_virg, y_virg, color = 'blue')\n",
    "plt.legend(('versicolor', 'setosa', 'virginica'))\n",
    "plt.xlabel('Length of petals')\n",
    "plt.ylabel('EDF')\n",
    "plt.show()"
   ]
  },
  {
   "cell_type": "markdown",
   "id": "f63962b0",
   "metadata": {},
   "source": [
    "# Probability density function"
   ]
  },
  {
   "cell_type": "raw",
   "id": "ace4e641",
   "metadata": {},
   "source": [
    "The probability density function of a given variable describes the chances of observing a value of that variable"
   ]
  },
  {
   "cell_type": "code",
   "execution_count": 14,
   "id": "51b0b371",
   "metadata": {},
   "outputs": [
    {
     "data": {
      "image/png": "[encoded data removed]",
      "text/plain": [
       "<Figure size 640x480 with 1 Axes>"
      ]
     },
     "metadata": {},
     "output_type": "display_data"
    }
   ],
   "source": [
    "# Probability density of iris virginica sepal width\n",
    "sns.distplot(iris[iris['species'] == 'virginica']['sepal_width'], hist = False);"
   ]
  },
  {
   "cell_type": "code",
   "execution_count": 15,
   "id": "0a1f2109",
   "metadata": {},
   "outputs": [
    {
     "data": {
      "image/png": "[encoded data removed]",
      "text/plain": [
       "<Figure size 640x480 with 1 Axes>"
      ]
     },
     "metadata": {},
     "output_type": "display_data"
    }
   ],
   "source": [
    "# Does the width of iris virginica sepals follow a normal distribution?\n",
    "# To answer we will use the probability density function\n",
    "\n",
    "# Example or normal distribution\n",
    "mn = iris[iris['species'] == 'virginica']['sepal_width'].mean()\n",
    "st = iris[iris['species'] == 'virginica']['sepal_width'].std()\n",
    "normal_dist = np.random.normal(mn, st, size = 10000)\n",
    "\n",
    "# comparison of the two distribution\n",
    "sns.distplot(iris[iris['species'] == 'virginica']['sepal_width'], hist = False, label = 'Virginica');\n",
    "sns.distplot(normal_dist, hist = False, label = 'Normal distribution');\n",
    "\n",
    "plt.legend()\n",
    "plt.show()"
   ]
  },
  {
   "cell_type": "code",
   "execution_count": 16,
   "id": "2c470b86",
   "metadata": {},
   "outputs": [
    {
     "data": {
      "image/png": "[encoded data removed]",
      "text/plain": [
       "<Figure size 640x480 with 1 Axes>"
      ]
     },
     "metadata": {},
     "output_type": "display_data"
    }
   ],
   "source": [
    "# Does the width of iris virginica sepals follow a normal distribution?\n",
    "# To answer we will use the Empirical distribution function\n",
    "\n",
    "x, y = edf(iris[iris['species'] == 'virginica']['sepal_width'])\n",
    "x_norm, y_norm = edf(normal_dist)\n",
    "\n",
    "plt.plot(x, y, color = 'green')\n",
    "plt.plot(x_norm, y_norm, color = 'red')\n",
    "plt.legend(('virginica', 'normal distribution'))\n",
    "plt.xlabel('width of iris virginica sepals')\n",
    "plt.ylabel('Empirical distribution function')\n",
    "plt.show()"
   ]
  },
  {
   "cell_type": "markdown",
   "id": "88d3e92f",
   "metadata": {},
   "source": [
    "# Probability"
   ]
  },
  {
   "cell_type": "code",
   "execution_count": 17,
   "id": "02b46c4a",
   "metadata": {},
   "outputs": [
    {
     "data": {
      "text/plain": [
       "5.17"
      ]
     },
     "execution_count": 17,
     "metadata": {},
     "output_type": "execute_result"
    }
   ],
   "source": [
    "# Probability that the width of the sepals of an Iris virginica is > 3.5 cm\n",
    "\n",
    "prob = np.sum(normal_dist > 3.5) / len(normal_dist)\n",
    "prob * 100"
   ]
  },
  {
   "cell_type": "markdown",
   "id": "0555d823",
   "metadata": {},
   "source": [
    "# Using simulations for probability estimation"
   ]
  },
  {
   "cell_type": "raw",
   "id": "f5a36c13",
   "metadata": {},
   "source": [
    "Simulation is a technique that makes it possible to model more or less complex systems in the real world.\n",
    "To perform simulations, you must follow several steps:\n",
    "    - define the set of all possible results\n",
    "    - determine how to simulate a random outcome\n",
    "    - determine the rule of success\n",
    "    - sample several times and count the results\n",
    "    - calculate the frequency of success as an estimate of probability"
   ]
  },
  {
   "cell_type": "raw",
   "id": "ca1ca503",
   "metadata": {},
   "source": [
    "Example 1:\n",
    "\n",
    "Consider an experiment E consisting of tossing a coin 5 times. \n",
    "There is a 50% chance of getting \"Tails\" and a 50% chance of\n",
    "to get \"Heads\" during a throw. A flip of the coin is a Bernoulli test \n",
    "(A Bernoulli test is a random experiment that has two possible outcomes: success and failure). \n",
    "Here we define the \"get a tail\" event as success and the \"get a head\" event as failure. \n",
    "The objective is to repeat experiment E N times and calculate the probability of \n",
    "getting 5 \"Tails\" out of the 5 tosses. To carry out this experiment, we will use the random module of Numpy. \n",
    "We will generate pseudo-random real numbers between 0 and 1. \n",
    "If the number generated is less than 0.5, we will say that we have 'tails'. Otherwise, we will say that we have 'heads'."
   ]
  },
  {
   "cell_type": "code",
   "execution_count": 18,
   "id": "0cc69fae",
   "metadata": {},
   "outputs": [
    {
     "name": "stdout",
     "output_type": "stream",
     "text": [
      "Result of the experiment:  [0.36096191 0.94540347 0.99261953 0.25123876 0.90347555] \n",
      "Number of head obtained :  2 \n",
      "Probalility :  0\n"
     ]
    }
   ],
   "source": [
    "# to generate 5 random numbers between 0 and 1\n",
    "res = np.random.random(size = 5)\n",
    "\n",
    "# check the numbers of \"heads\" from this one experiment\n",
    "tail = np.sum(res < 0.5)\n",
    "\n",
    "# probability for this one experiment\n",
    "prob = 0;\n",
    "\n",
    "if (tail == 5):\n",
    "    prob = 1\n",
    "\n",
    "print(\"Result of the experiment: \", res, '\\nNumber of head obtained : ', tail, '\\nProbalility : ', prob)"
   ]
  },
  {
   "cell_type": "code",
   "execution_count": 19,
   "id": "b7a5277d",
   "metadata": {},
   "outputs": [
    {
     "name": "stdout",
     "output_type": "stream",
     "text": [
      "the probability of getting 5 tails out of the 5 tosses is: 3.1263 %\n"
     ]
    }
   ],
   "source": [
    "# Simulation of N expérience E\n",
    "\n",
    "# N = number of experiment\n",
    "\n",
    "def simulation(N):\n",
    "    count = 0;\n",
    "    \n",
    "    for i in range(N):\n",
    "        # random numbers\n",
    "        res = np.random.random(size = 5)\n",
    "        # count the number of 'tail' obtained\n",
    "        nb = np.sum(res < 0.5)\n",
    "        \n",
    "        if (nb == 5):\n",
    "            count = count + 1\n",
    "    \n",
    "    # calcul of probability\n",
    "    prob = (count / N) * 100\n",
    "    \n",
    "    return(prob)\n",
    "    \n",
    "print(\"the probability of getting 5 tails out of the 5 tosses is:\", simulation(1000000), \"%\")"
   ]
  },
  {
   "cell_type": "raw",
   "id": "589d68e8",
   "metadata": {},
   "source": [
    "Example 2:\n",
    "\n",
    "You roll two dice, each numbered 1 to 6.\n",
    "All numbers have the same probability of appearing (uniform distribution).\n",
    "You win if both dice show the same number and you lose otherwise.\n",
    "After playing the game once, we will repeat it several times in order to estimate\n",
    "the probability of winning this game."
   ]
  },
  {
   "cell_type": "code",
   "execution_count": 20,
   "id": "fd5573dc",
   "metadata": {},
   "outputs": [
    {
     "name": "stdout",
     "output_type": "stream",
     "text": [
      "the probability of winning the game is : 16.7189 %\n"
     ]
    }
   ],
   "source": [
    "def test(N):\n",
    "    count = 0;\n",
    "\n",
    "    dice = [1, 2, 3, 4, 5, 6]\n",
    "    \n",
    "    for i in range(N):\n",
    "        # make two random choices from the given data\n",
    "        res = np.random.choice(dice, size = 2)\n",
    "    \n",
    "        # check if the two choices are the same\n",
    "        if (res[0] == res[1]):\n",
    "            count = count + 1;\n",
    "    \n",
    "        # calcul of probability\n",
    "        prob = (count / N) * 100\n",
    "    \n",
    "    return(prob)\n",
    "\n",
    "print(\"the probability of winning the game is :\", test(1000000), \"%\") "
   ]
  },
  {
   "cell_type": "markdown",
   "id": "8b5d9116",
   "metadata": {},
   "source": [
    "# Boostraping: a resampling method"
   ]
  },
  {
   "cell_type": "code",
   "execution_count": 21,
   "id": "b362e52b",
   "metadata": {},
   "outputs": [
    {
     "data": {
      "text/html": [
       "<div>\n",
       "<style scoped>\n",
       "    .dataframe tbody tr th:only-of-type {\n",
       "        vertical-align: middle;\n",
       "    }\n",
       "\n",
       "    .dataframe tbody tr th {\n",
       "        vertical-align: top;\n",
       "    }\n",
       "\n",
       "    .dataframe thead th {\n",
       "        text-align: right;\n",
       "    }\n",
       "</style>\n",
       "<table border=\"1\" class=\"dataframe\">\n",
       "  <thead>\n",
       "    <tr style=\"text-align: right;\">\n",
       "      <th></th>\n",
       "      <th>Total</th>\n",
       "    </tr>\n",
       "    <tr>\n",
       "      <th>Year</th>\n",
       "      <th></th>\n",
       "    </tr>\n",
       "  </thead>\n",
       "  <tbody>\n",
       "    <tr>\n",
       "      <th>2019</th>\n",
       "      <td>34.52</td>\n",
       "    </tr>\n",
       "    <tr>\n",
       "      <th>2018</th>\n",
       "      <td>55.97</td>\n",
       "    </tr>\n",
       "    <tr>\n",
       "      <th>2017</th>\n",
       "      <td>36.62</td>\n",
       "    </tr>\n",
       "    <tr>\n",
       "      <th>2016</th>\n",
       "      <td>35.48</td>\n",
       "    </tr>\n",
       "    <tr>\n",
       "      <th>2015</th>\n",
       "      <td>62.61</td>\n",
       "    </tr>\n",
       "  </tbody>\n",
       "</table>\n",
       "</div>"
      ],
      "text/plain": [
       "      Total\n",
       "Year       \n",
       "2019  34.52\n",
       "2018  55.97\n",
       "2017  36.62\n",
       "2016  35.48\n",
       "2015  62.61"
      ]
     },
     "execution_count": 21,
     "metadata": {},
     "output_type": "execute_result"
    }
   ],
   "source": [
    "# Load the data\n",
    "df = pd.read_csv(r\"annual_rainfall_dallas.csv\", index_col = 'Year')\n",
    "df.head()"
   ]
  },
  {
   "cell_type": "code",
   "execution_count": 22,
   "id": "0cd66390",
   "metadata": {},
   "outputs": [
    {
     "data": {
      "text/html": [
       "<div>\n",
       "<style scoped>\n",
       "    .dataframe tbody tr th:only-of-type {\n",
       "        vertical-align: middle;\n",
       "    }\n",
       "\n",
       "    .dataframe tbody tr th {\n",
       "        vertical-align: top;\n",
       "    }\n",
       "\n",
       "    .dataframe thead th {\n",
       "        text-align: right;\n",
       "    }\n",
       "</style>\n",
       "<table border=\"1\" class=\"dataframe\">\n",
       "  <thead>\n",
       "    <tr style=\"text-align: right;\">\n",
       "      <th></th>\n",
       "      <th>Total</th>\n",
       "    </tr>\n",
       "    <tr>\n",
       "      <th>Year</th>\n",
       "      <th></th>\n",
       "    </tr>\n",
       "  </thead>\n",
       "  <tbody>\n",
       "    <tr>\n",
       "      <th>1899</th>\n",
       "      <td>18.11</td>\n",
       "    </tr>\n",
       "    <tr>\n",
       "      <th>1900</th>\n",
       "      <td>36.89</td>\n",
       "    </tr>\n",
       "    <tr>\n",
       "      <th>1901</th>\n",
       "      <td>19.65</td>\n",
       "    </tr>\n",
       "    <tr>\n",
       "      <th>1902</th>\n",
       "      <td>29.31</td>\n",
       "    </tr>\n",
       "    <tr>\n",
       "      <th>1903</th>\n",
       "      <td>27.14</td>\n",
       "    </tr>\n",
       "  </tbody>\n",
       "</table>\n",
       "</div>"
      ],
      "text/plain": [
       "      Total\n",
       "Year       \n",
       "1899  18.11\n",
       "1900  36.89\n",
       "1901  19.65\n",
       "1902  29.31\n",
       "1903  27.14"
      ]
     },
     "execution_count": 22,
     "metadata": {},
     "output_type": "execute_result"
    }
   ],
   "source": [
    "# Sort 'year' values\n",
    "df = df.sort_values('Year')\n",
    "df.head()"
   ]
  },
  {
   "cell_type": "markdown",
   "id": "1aef8d1b",
   "metadata": {},
   "source": [
    "# Creating and viewing bootstrap samples"
   ]
  },
  {
   "cell_type": "code",
   "execution_count": 23,
   "id": "a2714f75",
   "metadata": {},
   "outputs": [
    {
     "data": {
      "text/plain": [
       "array([50.62, 29.75, 29.4 , 44.1 , 35.39, 39.95, 18.11, 44.42, 17.91,\n",
       "       29.73, 50.05, 27.1 , 18.97, 31.17, 24.23, 26.35, 44.6 , 53.54,\n",
       "       38.14, 30.75, 34.14, 34.14, 19.55, 34.49, 45.74, 24.97, 44.58,\n",
       "       35.69, 44.1 , 34.31, 29.31, 62.61, 38.48, 44.58, 35.41, 35.69,\n",
       "       44.6 , 37.84, 27.19, 26.44, 34.14, 22.69, 37.84, 27.3 , 44.58,\n",
       "       50.62, 62.61, 27.19, 29.62, 31.17, 23.59, 37.84, 45.27, 29.1 ,\n",
       "       23.22, 23.22, 25.16, 24.37, 44.6 , 23.37, 19.55, 50.49, 24.74,\n",
       "       28.15, 23.22, 25.88, 44.58, 27.1 , 34.31, 20.11, 35.69, 31.46,\n",
       "       30.7 , 38.48, 23.87, 43.27, 35.63, 36.26, 32.3 , 32.83, 29.75,\n",
       "       44.6 , 31.26, 27.03, 32.45, 34.22, 35.69, 34.24, 40.75, 41.43,\n",
       "       21.09, 29.8 , 27.3 , 26.44, 31.7 , 38.48, 27.19, 37.7 , 27.19,\n",
       "       23.22, 41.43, 45.39, 26.35, 62.61, 34.52, 35.95, 18.97, 29.1 ,\n",
       "       34.22, 36.36, 27.19, 24.74, 26.81, 40.89, 21.09, 31.7 , 44.42,\n",
       "       36.62, 36.36, 35.95, 34.47])"
      ]
     },
     "execution_count": 23,
     "metadata": {},
     "output_type": "execute_result"
    }
   ],
   "source": [
    "# Boostrap sample\n",
    "sampl = np.random.choice(df['Total'], size = len(df), replace = True)\n",
    "sampl"
   ]
  },
  {
   "cell_type": "code",
   "execution_count": 24,
   "id": "6fe292f8",
   "metadata": {},
   "outputs": [
    {
     "data": {
      "text/plain": [
       "33.80933884297521"
      ]
     },
     "execution_count": 24,
     "metadata": {},
     "output_type": "execute_result"
    }
   ],
   "source": [
    "# Mean of the boostrap sample\n",
    "\n",
    "sampl.mean()"
   ]
  },
  {
   "cell_type": "code",
   "execution_count": 25,
   "id": "c052750f",
   "metadata": {},
   "outputs": [
    {
     "data": {
      "text/plain": [
       "9.351129311349627"
      ]
     },
     "execution_count": 25,
     "metadata": {},
     "output_type": "execute_result"
    }
   ],
   "source": [
    "# Standard deviation of the boostrap sample\n",
    "\n",
    "sampl.std()"
   ]
  },
  {
   "cell_type": "code",
   "execution_count": 26,
   "id": "18a26a93",
   "metadata": {},
   "outputs": [],
   "source": [
    "# Function for calculating the empirical distribution of a variable\n",
    "\n",
    "def edf(data):\n",
    "    # size of the data\n",
    "    size = len(data)\n",
    "    \n",
    "    # sort the values in the array\n",
    "    x = np.sort(data)\n",
    "    \n",
    "    # calcul the probability 1/n\n",
    "    y = np.arange(1, size + 1) / size\n",
    "    \n",
    "    return (x, y)"
   ]
  },
  {
   "cell_type": "code",
   "execution_count": 27,
   "id": "f4a8745f",
   "metadata": {},
   "outputs": [
    {
     "data": {
      "text/plain": [
       "[<matplotlib.lines.Line2D at 0x22b4dbdcd90>]"
      ]
     },
     "execution_count": 27,
     "metadata": {},
     "output_type": "execute_result"
    },
    {
     "data": {
      "image/png": "[encoded data removed]",
      "text/plain": [
       "<Figure size 640x480 with 1 Axes>"
      ]
     },
     "metadata": {},
     "output_type": "display_data"
    }
   ],
   "source": [
    "# Generate a thousand bootstrap samples of the same size as df\n",
    "stock = []\n",
    "\n",
    "for _ in range(1000):\n",
    "    samp = np.random.choice(df['Total'], size = len(df))\n",
    "    stock.append(np.mean(samp))\n",
    "    \n",
    "    x_boot, y_boot = edf(samp)\n",
    "    _ = plt.plot(x_boot, y_boot, color = 'blue')\n",
    "\n",
    "x, y = edf(df['Total'])\n",
    "plt.plot(x, y, color = 'red')"
   ]
  },
  {
   "cell_type": "code",
   "execution_count": null,
   "id": "e91281dc",
   "metadata": {},
   "outputs": [],
   "source": []
  },
  {
   "cell_type": "code",
   "execution_count": null,
   "id": "bdce9d0f",
   "metadata": {},
   "outputs": [],
   "source": []
  }
 ],
 "metadata": {
  "kernelspec": {
   "display_name": "Python 3 (ipykernel)",
   "language": "python",
   "name": "python3"
  },
  "language_info": {
   "codemirror_mode": {
    "name": "ipython",
    "version": 3
   },
   "file_extension": ".py",
   "mimetype": "text/x-python",
   "name": "python",
   "nbconvert_exporter": "python",
   "pygments_lexer": "ipython3",
   "version": "3.11.3"
  }
 },
 "nbformat": 4,
 "nbformat_minor": 5
}
