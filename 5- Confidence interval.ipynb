{
 "cells": [
  {
   "cell_type": "markdown",
   "id": "231f1596",
   "metadata": {},
   "source": [
    "# Boostraping, Confidence intervals"
   ]
  },
  {
   "cell_type": "code",
   "execution_count": 1,
   "id": "9c261f33",
   "metadata": {},
   "outputs": [],
   "source": [
    "import pandas as pd\n",
    "import numpy as np\n",
    "import matplotlib.pyplot as plt\n",
    "import seaborn as sns\n",
    "%matplotlib inline\n",
    "plt.style.use('ggplot')\n",
    "\n",
    "from warnings import filterwarnings\n",
    "filterwarnings('ignore')\n",
    "\n",
    "from scipy import stats"
   ]
  },
  {
   "cell_type": "code",
   "execution_count": 2,
   "id": "bfe1fef8",
   "metadata": {},
   "outputs": [],
   "source": [
    "# Load the data\n",
    "df = pd.read_csv(r\"annual_rainfall_dallas.csv\", index_col = 'Year')\n",
    "df.head()"
   ]
  },
  {
   "cell_type": "code",
   "execution_count": 3,
   "id": "c2709a2f",
   "metadata": {},
   "outputs": [],
   "source": [
    "# Boostrap sample\n",
    "sampl = np.random.choice(df['Total'], size = len(df), replace = True)\n",
    "sampl"
   ]
  },
  {
   "cell_type": "code",
   "execution_count": 4,
   "id": "54d655d9",
   "metadata": {},
   "outputs": [],
   "source": [
    "# Function for generating multiple bootstrap replicas\n",
    "\n",
    "def replica(data, function, n = 1):\n",
    "    stock = np.empty(n)\n",
    "    \n",
    "    for i in range(n):\n",
    "        res = np.random.choice(data, size = len(data))\n",
    "        stock[i] = function(res)\n",
    "    \n",
    "    return(stock)"
   ]
  },
  {
   "cell_type": "markdown",
   "id": "87592436",
   "metadata": {},
   "source": [
    "# Confidence interval"
   ]
  },
  {
   "cell_type": "code",
   "execution_count": 5,
   "id": "9371b3d5",
   "metadata": {},
   "outputs": [],
   "source": [
    "# 95% confidence interval of average annual precipitation in Dallas\n",
    "np.percentile(replica(df['Total'], np.mean, 1000), [2.5, 97.5])"
   ]
  },
  {
   "cell_type": "code",
   "execution_count": 6,
   "id": "f38f5234",
   "metadata": {},
   "outputs": [],
   "source": [
    "# 95% confidence interval of the standard deviation of annual precipitation in Dallas\n",
    "np.percentile(replica(df['Total'], np.std, 1000), [2.5, 97.5])"
   ]
  },
  {
   "cell_type": "code",
   "execution_count": null,
   "id": "222ce473",
   "metadata": {},
   "outputs": [],
   "source": []
  }
 ],
 "metadata": {
  "kernelspec": {
   "display_name": "Python 3 (ipykernel)",
   "language": "python",
   "name": "python3"
  },
  "language_info": {
   "codemirror_mode": {
    "name": "ipython",
    "version": 3
   },
   "file_extension": ".py",
   "mimetype": "text/x-python",
   "name": "python",
   "nbconvert_exporter": "python",
   "pygments_lexer": "ipython3",
   "version": "3.11.3"
  }
 },
 "nbformat": 4,
 "nbformat_minor": 5
}
